{
 "cells": [
  {
   "cell_type": "code",
   "execution_count": null,
   "metadata": {},
   "outputs": [],
   "source": [
    "from scipy.special import rel_entr\n",
    "from utils import *"
   ]
  },
  {
   "cell_type": "code",
   "execution_count": null,
   "metadata": {},
   "outputs": [],
   "source": [
    "def kl_div(x, y):\n",
    "    fw = np.mean([np.sum(rel_entr(x[:512], y[:512])), np.sum(rel_entr(y[:512], x[:512]))])\n",
    "    bw = np.mean([np.sum(rel_entr(x[512:], y[512:])), np.sum(rel_entr(y[512:], x[512:]))])\n",
    "    return np.mean([fw, bw])\n"
   ]
  },
  {
   "cell_type": "code",
   "execution_count": null,
   "metadata": {},
   "outputs": [],
   "source": [
    "df_lbp_tr = pd.read_csv('df_lbp_train', index_col=[\"record\", \"augm_idx\"])\n",
    "df_lbp_te = pd.read_csv('df_lbp_test', index_col=0)"
   ]
  },
  {
   "cell_type": "code",
   "execution_count": null,
   "metadata": {},
   "outputs": [],
   "source": [
    "x = df_lbp_tr#.iloc[:100]\n",
    "y = x\n",
    "\n",
    "def kl_wrap(t):\n",
    "    return (*t, kl_div(x.iloc[t[0]], y.iloc[t[1]]))\n",
    "ij = [(i,j) for i in range(x.shape[0]) for j in range(i)]\n",
    "\n",
    "with closing(Pool(processes=NUM_PROCESSES)) as pool:\n",
    "    print(f'pid: {os.getpid()}\\n', end='')\n",
    "    r = list(tqdm(pool.map(kl_wrap, ij), total=len(ij)))\n",
    "\n",
    "gram_tr = np.zeros((x.shape[0],y.shape[0]))\n",
    "for i,j,d in tqdm(r):\n",
    "    gram_tr[i,j] = gram_tr[j,i] = d\n",
    "df_gram_tr = pd.DataFrame(gram_tr, index=x.index, columns=y.index)\n",
    "df_gram_tr.to_csv(\"df_gram_tr.csv.gz\", compression='gzip')\n",
    "# df = pd.read_csv('df_gram_tr.csv.gz', index_col=[0,1], header=[0,1])"
   ]
  },
  {
   "cell_type": "code",
   "execution_count": null,
   "metadata": {},
   "outputs": [],
   "source": [
    "x = df_lbp_te#.iloc[:5]\n",
    "y = df_lbp_tr#.iloc[:20]\n",
    "\n",
    "def kl_wrap(i):\n",
    "    return (i, [kl_div(x.iloc[i], y.iloc[j]) for j in range(y.shape[0])])\n",
    "with closing(Pool(processes=NUM_PROCESSES)) as pool:\n",
    "    print(f'pid: {os.getpid()}\\n', end='')\n",
    "    r = list(tqdm(pool.imap(kl_wrap, range(x.shape[0])), total=x.shape[0]))\n",
    "gram = [x[1] for x in sorted(r)]\n",
    "df_gram = pd.DataFrame(gram, index=x.index, columns=y.index)\n",
    "df_gram.to_csv(\"df_gram_te.csv.gz\", compression='gzip')\n",
    "# df = pd.read_csv('df_gram_te.csv.gz', index_col=0, header=[0,1])"
   ]
  },
  {
   "cell_type": "code",
   "execution_count": null,
   "metadata": {},
   "outputs": [],
   "source": [
    "with closing(Pool(processes=NUM_PROCESSES, maxtasksperchild=1)) as pool:\n",
    "    print(f'pid: {os.getpid()}\\n', end='')\n",
    "    kxys = list(tqdm(pool.imap(readcgw1_wrap, records), total=len(records)))\n"
   ]
  }
 ],
 "metadata": {
  "kernelspec": {
   "display_name": "malis",
   "language": "python",
   "name": "python3"
  },
  "language_info": {
   "codemirror_mode": {
    "name": "ipython",
    "version": 3
   },
   "file_extension": ".py",
   "mimetype": "text/x-python",
   "name": "python",
   "nbconvert_exporter": "python",
   "pygments_lexer": "ipython3",
   "version": "3.8.13 | packaged by conda-forge | (default, Mar 25 2022, 06:04:10) \n[GCC 10.3.0]"
  },
  "orig_nbformat": 4,
  "vscode": {
   "interpreter": {
    "hash": "7bfea9d73d4489e23806cd9c9e4a8dc5ada529626bc5a127a22b16b7ea1da971"
   }
  }
 },
 "nbformat": 4,
 "nbformat_minor": 2
}
