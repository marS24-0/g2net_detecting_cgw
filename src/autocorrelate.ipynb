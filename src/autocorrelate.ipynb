{
 "cells": [
  {
   "cell_type": "code",
   "execution_count": null,
   "metadata": {},
   "outputs": [],
   "source": [
    "import pickle\n",
    "from oldutils import *\n",
    "from sklearn.metrics import roc_auc_score\n"
   ]
  },
  {
   "cell_type": "code",
   "execution_count": null,
   "metadata": {},
   "outputs": [],
   "source": [
    "labels = read_labels()\n",
    "print(len(labels))\n",
    "labels = labels[labels['target'] != -1]\n",
    "print(len(labels))"
   ]
  },
  {
   "cell_type": "code",
   "execution_count": null,
   "metadata": {},
   "outputs": [],
   "source": [
    "import os\n",
    "kxys = []\n",
    "for x in os.listdir():\n",
    "    if x.endswith('.pickle'):\n",
    "        with open(x, 'rb') as infile:\n",
    "            kxys += pickle.load(infile)\n",
    "\n",
    "print(len(kxys))\n",
    "\n",
    "subdir = 'kxys'\n",
    "for x in os.listdir(subdir):\n",
    "    if x.endswith('.pickle'):\n",
    "        with open(f'{subdir}/{x}', 'rb') as infile:\n",
    "            kxys += pickle.load(infile)\n",
    "\n",
    "print(len(kxys))"
   ]
  },
  {
   "cell_type": "code",
   "execution_count": null,
   "metadata": {},
   "outputs": [],
   "source": [
    "s = set(x[0] for x in kxys)\n",
    "labels = [x for x in labels.index if x not in s]\n",
    "print(len(labels))"
   ]
  },
  {
   "cell_type": "code",
   "execution_count": null,
   "metadata": {},
   "outputs": [],
   "source": [
    "kxys1 = readcgws(labels, autocorrelate)"
   ]
  },
  {
   "cell_type": "code",
   "execution_count": null,
   "metadata": {},
   "outputs": [],
   "source": [
    "records = pos.iloc[:1].index\n",
    "print(records.size)"
   ]
  },
  {
   "cell_type": "code",
   "execution_count": null,
   "metadata": {},
   "outputs": [],
   "source": [
    "kxys = readcgws(records, autocorrelate)"
   ]
  },
  {
   "cell_type": "code",
   "execution_count": null,
   "metadata": {},
   "outputs": [],
   "source": [
    "# with open('kxys.pickle', 'wb') as outf:\n",
    "#     pickle.dump(obj=kxys, file=outf)"
   ]
  },
  {
   "cell_type": "code",
   "execution_count": null,
   "metadata": {},
   "outputs": [],
   "source": [
    "with open('kxys-0.pickle','rb') as outf:\n",
    "    kxys = pickle.load(outf)"
   ]
  },
  {
   "cell_type": "code",
   "execution_count": null,
   "metadata": {},
   "outputs": [],
   "source": [
    "h = np.array([e[1][0] for e in kxys])\n",
    "l = np.array([e[2] for e in kxys])\n",
    "h += h.min()\n",
    "h /= h.max()\n",
    "# h = 1-h"
   ]
  },
  {
   "cell_type": "code",
   "execution_count": null,
   "metadata": {},
   "outputs": [],
   "source": [
    "roc_auc_score(y_score=h, y_true=l)"
   ]
  },
  {
   "cell_type": "code",
   "execution_count": null,
   "metadata": {},
   "outputs": [],
   "source": [
    "import os\n",
    "kxys = []\n",
    "# for x in os.listdir():\n",
    "#     if x.endswith('.pickle'):\n",
    "#         with open(x, 'rb') as infile:\n",
    "#             kxys += pickle.load(infile)\n",
    "\n",
    "# print(len(kxys))\n",
    "\n",
    "subdir = 'kxys'\n",
    "for x in os.listdir(subdir):\n",
    "    if x.endswith('.pickle'):\n",
    "        with open(f'{subdir}/{x}', 'rb') as infile:\n",
    "            kxys += pickle.load(infile)\n",
    "\n",
    "print(len(kxys))"
   ]
  },
  {
   "cell_type": "code",
   "execution_count": null,
   "metadata": {},
   "outputs": [],
   "source": [
    "kxs = [(x[0], *x[1], x[2]) for x in kxys]\n",
    "df = pd.DataFrame(kxs)"
   ]
  },
  {
   "cell_type": "code",
   "execution_count": null,
   "metadata": {},
   "outputs": [],
   "source": [
    "with open('kxys1.csv', 'w') as outf:\n",
    "    df.to_csv(outf)"
   ]
  }
 ],
 "metadata": {
  "kernelspec": {
   "display_name": "Python 3",
   "language": "python",
   "name": "python3"
  },
  "language_info": {
   "codemirror_mode": {
    "name": "ipython",
    "version": 3
   },
   "file_extension": ".py",
   "mimetype": "text/x-python",
   "name": "python",
   "nbconvert_exporter": "python",
   "pygments_lexer": "ipython3",
   "version": "3.10.6 (main, Nov 14 2022, 16:10:14) [GCC 11.3.0]"
  },
  "orig_nbformat": 4,
  "vscode": {
   "interpreter": {
    "hash": "916dbcbb3f70747c44a77c7bcd40155683ae19c65e1c03b4aa3499c5328201f1"
   }
  }
 },
 "nbformat": 4,
 "nbformat_minor": 2
}
